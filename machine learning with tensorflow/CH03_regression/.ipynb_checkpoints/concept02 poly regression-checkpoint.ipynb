{
 "cells": [
  {
   "cell_type": "markdown",
   "metadata": {},
   "source": [
    "# Ch 03: Concept 02"
   ]
  },
  {
   "cell_type": "markdown",
   "metadata": {},
   "source": [
    "## Polynomial regression"
   ]
  },
  {
   "cell_type": "markdown",
   "metadata": {},
   "source": [
    "관련된 라이브러리를 import하고 hyper parameter를 초기화시키자."
   ]
  },
  {
   "cell_type": "code",
   "execution_count": 1,
   "metadata": {
    "collapsed": true
   },
   "outputs": [],
   "source": [
    "%matplotlib inline\n",
    "import tensorflow as tf\n",
    "import numpy as np\n",
    "import matplotlib.pyplot as plt\n",
    "\n",
    "learning_rate = 0.01\n",
    "training_epochs = 40"
   ]
  },
  {
   "cell_type": "markdown",
   "metadata": {},
   "source": [
    "raw data 생성"
   ]
  },
  {
   "cell_type": "code",
   "execution_count": 2,
   "metadata": {
    "collapsed": true
   },
   "outputs": [],
   "source": [
    "trX = np.linspace(-1, 1, 101)"
   ]
  },
  {
   "cell_type": "markdown",
   "metadata": {},
   "source": [
    "raw data에 6-다항식을 적용시켜 output을 생성하자."
   ]
  },
  {
   "cell_type": "code",
   "execution_count": 13,
   "metadata": {
    "collapsed": false
   },
   "outputs": [],
   "source": [
    "num_coeffs = 6\n",
    "trY_coeffs = [1, 2, 3, 4, 5, 6]\n",
    "trY = 0\n",
    "for i in range(num_coeffs):\n",
    "    trY += trY_coeffs[i] * np.power(trX, i)"
   ]
  },
  {
   "cell_type": "markdown",
   "metadata": {},
   "source": [
    "다항식에 노이즈를 추가한다.\n",
    "\n",
    "함수안에 있는 trX.shape 의 역활은 몇개의 노이즈를 생성하냐이다.\n",
    "\n",
    "그런데 앞에 * 는 왜 붙는거지..?"
   ]
  },
  {
   "cell_type": "code",
   "execution_count": 28,
   "metadata": {
    "collapsed": false
   },
   "outputs": [
    {
     "data": {
      "text/plain": [
       "array([-0.05539157,  2.14107087,  1.48769166, -2.22845655, -0.71004642,\n",
       "       -0.85674369, -0.59841848, -0.70019296, -1.16247564,  0.28247461,\n",
       "        1.08511314, -2.92310826,  2.93338613,  0.9271283 ,  0.93654908,\n",
       "       -1.16455105,  2.0767356 ,  0.76095611,  0.99520589, -1.92710963,\n",
       "       -0.10311965,  1.05444632, -1.40859815, -0.26546821, -0.36712039,\n",
       "        0.35362262,  0.7956823 , -2.35057769,  2.26266763, -1.32892917,\n",
       "       -1.80001392, -0.11755354,  0.55618736, -1.79586203, -0.54891495,\n",
       "       -1.89687452,  2.83604426, -0.37107458,  2.02647957,  0.52872489,\n",
       "        1.32608129, -1.80087858, -0.90650049,  0.95659041,  3.09569571,\n",
       "        0.1445276 , -1.74402318, -1.01147368,  0.55983463,  2.04498919,\n",
       "       -1.85356221, -0.75524881,  4.50482508, -1.64626241,  1.01900633,\n",
       "        2.24398971,  1.70459773,  2.08326672, -2.48013271,  0.78807129,\n",
       "        0.58620423, -1.11254716,  0.30333334, -2.76665456, -0.87714481,\n",
       "       -1.22395923,  2.86178376,  2.01481165, -0.75559959,  0.49237183,\n",
       "       -1.05426303,  4.80495274,  1.27027221,  1.57298045,  0.01454166,\n",
       "       -0.16820244,  0.78485733, -0.16164757, -0.78759211, -0.38298282,\n",
       "        3.02376216,  0.06042635, -0.14060109,  1.34381644,  0.0167652 ,\n",
       "       -0.96194923,  0.92726303, -0.33287602,  0.00963658, -1.03053673,\n",
       "       -2.19546693,  0.48079677,  2.30392248, -0.43649862, -0.70566956,\n",
       "       -0.03359637,  1.31400835,  1.73733756,  0.15230142,  0.60001349,\n",
       "       -0.40400898])"
      ]
     },
     "execution_count": 28,
     "metadata": {},
     "output_type": "execute_result"
    }
   ],
   "source": [
    "np.random.randn(*trX.shape)*1.5"
   ]
  },
  {
   "cell_type": "code",
   "execution_count": 29,
   "metadata": {
    "collapsed": false
   },
   "outputs": [],
   "source": [
    "trY += np.random.randn(*trX.shape) * 1.5"
   ]
  },
  {
   "cell_type": "markdown",
   "metadata": {},
   "source": [
    "raw data 시각화"
   ]
  },
  {
   "cell_type": "code",
   "execution_count": 30,
   "metadata": {
    "collapsed": false
   },
   "outputs": [
    {
     "data": {
      "image/png": "[encoded data removed]",
      "text/plain": [
       "<matplotlib.figure.Figure at 0x77e5da0>"
      ]
     },
     "metadata": {},
     "output_type": "display_data"
    }
   ],
   "source": [
    "plt.scatter(trX, trY)\n",
    "plt.show()"
   ]
  },
  {
   "cell_type": "markdown",
   "metadata": {},
   "source": [
    "input output의 pair를 고정시키기 위해서 node를 생성한다."
   ]
  },
  {
   "cell_type": "code",
   "execution_count": 31,
   "metadata": {
    "collapsed": true
   },
   "outputs": [],
   "source": [
    "X = tf.placeholder(\"float\")\n",
    "Y = tf.placeholder(\"float\")"
   ]
  },
  {
   "cell_type": "markdown",
   "metadata": {},
   "source": [
    "polynomial model을 설정하자."
   ]
  },
  {
   "cell_type": "code",
   "execution_count": 32,
   "metadata": {
    "collapsed": true
   },
   "outputs": [],
   "source": [
    "def model(X, w):\n",
    "    terms = []\n",
    "    for i in range(num_coeffs):\n",
    "        term = tf.multiply(w[i], tf.pow(X, i))\n",
    "        terms.append(term)\n",
    "    return tf.add_n(terms)"
   ]
  },
  {
   "cell_type": "markdown",
   "metadata": {},
   "source": [
    "파라미터 벡터를 0으로 세팅한다."
   ]
  },
  {
   "cell_type": "code",
   "execution_count": 33,
   "metadata": {
    "collapsed": true
   },
   "outputs": [],
   "source": [
    "w = tf.Variable([0.] * num_coeffs, name=\"parameters\")\n",
    "y_model = model(X, w)"
   ]
  },
  {
   "cell_type": "markdown",
   "metadata": {},
   "source": [
    "이전과 같이 cost 함수를 설정한다."
   ]
  },
  {
   "cell_type": "code",
   "execution_count": 34,
   "metadata": {
    "collapsed": true
   },
   "outputs": [],
   "source": [
    "cost = tf.reduce_sum(tf.square(Y-y_model))\n",
    "train_op = tf.train.GradientDescentOptimizer(learning_rate).minimize(cost)"
   ]
  },
  {
   "cell_type": "markdown",
   "metadata": {},
   "source": [
    "세션을 설정하고 알고리즘을 돌리자."
   ]
  },
  {
   "cell_type": "code",
   "execution_count": 35,
   "metadata": {
    "collapsed": false
   },
   "outputs": [
    {
     "name": "stdout",
     "output_type": "stream",
     "text": [
      "[ 0.70137244  3.04119873  5.05761337  3.31489372  3.09237623  4.09534788]\n"
     ]
    }
   ],
   "source": [
    "sess = tf.Session()\n",
    "init = tf.global_variables_initializer()\n",
    "sess.run(init)\n",
    "\n",
    "for epoch in range(training_epochs):\n",
    "    for (x, y) in zip(trX, trY):\n",
    "        sess.run(train_op, feed_dict={X: x, Y: y})\n",
    "\n",
    "w_val = sess.run(w)\n",
    "print(w_val)"
   ]
  },
  {
   "cell_type": "markdown",
   "metadata": {},
   "source": [
    "세션을 닫자."
   ]
  },
  {
   "cell_type": "code",
   "execution_count": 36,
   "metadata": {
    "collapsed": true
   },
   "outputs": [],
   "source": [
    "sess.close()"
   ]
  },
  {
   "cell_type": "markdown",
   "metadata": {},
   "source": [
    "해당하는 결과를 시각화 시키도록 한다."
   ]
  },
  {
   "cell_type": "code",
   "execution_count": 37,
   "metadata": {
    "collapsed": false
   },
   "outputs": [
    {
     "data": {
      "image/png": "[encoded data removed]",
      "text/plain": [
       "<matplotlib.figure.Figure at 0xdb0e940>"
      ]
     },
     "metadata": {},
     "output_type": "display_data"
    }
   ],
   "source": [
    "plt.scatter(trX, trY)\n",
    "trY2 = 0\n",
    "for i in range(num_coeffs):\n",
    "    trY2 += w_val[i] * np.power(trX, i)\n",
    "plt.plot(trX, trY2, 'r')\n",
    "plt.show()"
   ]
  }
 ],
 "metadata": {
  "kernelspec": {
   "display_name": "Python 3",
   "language": "python",
   "name": "python3"
  },
  "language_info": {
   "codemirror_mode": {
    "name": "ipython",
    "version": 3
   },
   "file_extension": ".py",
   "mimetype": "text/x-python",
   "name": "python",
   "nbconvert_exporter": "python",
   "pygments_lexer": "ipython3",
   "version": "3.5.2"
  }
 },
 "nbformat": 4,
 "nbformat_minor": 2
}
