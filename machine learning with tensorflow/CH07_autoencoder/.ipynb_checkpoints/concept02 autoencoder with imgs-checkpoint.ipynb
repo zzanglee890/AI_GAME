{
 "cells": [
  {
   "cell_type": "markdown",
   "metadata": {},
   "source": [
    "# Ch0 07: Concept 02"
   ]
  },
  {
   "cell_type": "markdown",
   "metadata": {},
   "source": [
    "## Autoencoder with images"
   ]
  },
  {
   "cell_type": "markdown",
   "metadata": {},
   "source": [
    "import the autoencoder class we wrote eariler\n",
    "\n",
    "위의 예제에서 만들었던 오토인코더 클래스를 파이썬 모듈로 해당 디렉토리에 저장시켜 놓는다."
   ]
  },
  {
   "cell_type": "code",
   "execution_count": 1,
   "metadata": {},
   "outputs": [],
   "source": [
    "%matplotlib inline\n",
    "from matplotlib import pyplot as plt\n",
    "import pickle\n",
    "import numpy as np\n",
    "from autoencoder import Autoencoder\n",
    "import tensorflow as tf"
   ]
  },
  {
   "cell_type": "markdown",
   "metadata": {},
   "source": [
    "필요한 함수를 설정해 놓는다."
   ]
  },
  {
   "cell_type": "code",
   "execution_count": 2,
   "metadata": {
    "collapsed": true
   },
   "outputs": [],
   "source": [
    "def unpickle(file):\n",
    "    fo = open(file, 'rb')\n",
    "    dict = pickle.load(fo, encoding='latin1')\n",
    "    fo.close()\n",
    "    return dict\n",
    "\n",
    "def grayscale(a):\n",
    "    return a.reshape(a.shape[0], 3, 32, 32).mean(1).reshape(a.shape[0], -1)"
   ]
  },
  {
   "cell_type": "markdown",
   "metadata": {},
   "source": [
    "Download the CIFAR-10 dataset in Python from https://www.cs.toronto.edu/~kriz/cifar.html. Then we can load the data using the following code:"
   ]
  },
  {
   "cell_type": "code",
   "execution_count": 3,
   "metadata": {
    "collapsed": true
   },
   "outputs": [],
   "source": [
    "names = unpickle('./cifar-10-batches-py/batches.meta')['label_names']\n",
    "data, labels = [], []\n",
    "for i in range(1, 6):\n",
    "    filename = './cifar-10-batches-py/data_batch_' + str(i)\n",
    "    batch_data = unpickle(filename)\n",
    "    if len(data) > 0:\n",
    "        data = np.vstack((data, batch_data['data']))\n",
    "        labels = np.hstack((labels, batch_data['labels']))\n",
    "    else:\n",
    "        data = batch_data['data']\n",
    "        labels = batch_data['labels']\n",
    "\n",
    "data = grayscale(data)\n",
    "x = np.matrix(data)\n",
    "y = np.array(labels)"
   ]
  },
  {
   "cell_type": "markdown",
   "metadata": {},
   "source": [
    "Train the autoencoder on images of horses:"
   ]
  },
  {
   "cell_type": "code",
   "execution_count": 4,
   "metadata": {},
   "outputs": [
    {
     "name": "stdout",
     "output_type": "stream",
     "text": [
      "(5000, 1024)\n",
      "Some examples of horse images we will feed to the autoencoder for training\n"
     ]
    },
    {
     "data": {
      "image/png": "[encoded data removed]",
      "text/plain": [
       "<matplotlib.figure.Figure at 0x22e36bc4048>"
      ]
     },
     "metadata": {},
     "output_type": "display_data"
    }
   ],
   "source": [
    "horse_indices = np.where(y == 7)[0]\n",
    "horse_x = x[horse_indices]\n",
    "print(np.shape(horse_x))  # (5000, 3072)\n",
    "\n",
    "print('Some examples of horse images we will feed to the autoencoder for training')\n",
    "plt.rcParams['figure.figsize'] = (10, 10)\n",
    "num_examples = 5\n",
    "for i in range(num_examples):\n",
    "    horse_img = np.reshape(horse_x[i, :], (32, 32))\n",
    "    plt.subplot(1, num_examples, i+1)\n",
    "    plt.imshow(horse_img, cmap='Greys_r')\n",
    "plt.show()"
   ]
  },
  {
   "cell_type": "code",
   "execution_count": 7,
   "metadata": {},
   "outputs": [],
   "source": [
    "input_dim = np.shape(horse_x)[1]\n",
    "hidden_dim = 100\n",
    "ae = Autoencoder(input_dim, hidden_dim)\n",
    "#ae.train(horse_x) 이미 트레인해서저장해놓았다."
   ]
  },
  {
   "cell_type": "markdown",
   "metadata": {},
   "source": [
    "Test the autoencoder on other images:"
   ]
  },
  {
   "cell_type": "code",
   "execution_count": 8,
   "metadata": {},
   "outputs": [
    {
     "name": "stdout",
     "output_type": "stream",
     "text": [
      "INFO:tensorflow:Restoring parameters from ./model.ckpt\n",
      "data (10000, 1024)\n",
      "reconstructed (1024,)\n",
      "loss (10000,)\n",
      "horse 60.7942263044\n",
      "not horse 60.1746203245\n"
     ]
    }
   ],
   "source": [
    "test_data = unpickle('./cifar-10-batches-py/test_batch')\n",
    "test_x = grayscale(test_data['data'])\n",
    "test_labels = np.array(test_data['labels'])\n",
    "encodings = ae.classify(test_x, test_labels)"
   ]
  }
 ],
 "metadata": {
  "kernelspec": {
   "display_name": "Python 3",
   "language": "python",
   "name": "python3"
  },
  "language_info": {
   "codemirror_mode": {
    "name": "ipython",
    "version": 3
   },
   "file_extension": ".py",
   "mimetype": "text/x-python",
   "name": "python",
   "nbconvert_exporter": "python",
   "pygments_lexer": "ipython3",
   "version": "3.5.2"
  }
 },
 "nbformat": 4,
 "nbformat_minor": 2
}
