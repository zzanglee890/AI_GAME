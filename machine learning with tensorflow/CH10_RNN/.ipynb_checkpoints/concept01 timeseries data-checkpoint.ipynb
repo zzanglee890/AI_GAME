{
 "cells": [
  {
   "cell_type": "markdown",
   "metadata": {},
   "source": [
    "# Ch 10: Concept 01"
   ]
  },
  {
   "cell_type": "markdown",
   "metadata": {},
   "source": [
    "## Processing timeseries data"
   ]
  },
  {
   "cell_type": "markdown",
   "metadata": {},
   "source": [
    "Load a CSV file, where each row is a feature vector:"
   ]
  },
  {
   "cell_type": "code",
   "execution_count": 1,
   "metadata": {
    "collapsed": true
   },
   "outputs": [],
   "source": [
    "%matplotlib inline\n",
    "import csv\n",
    "import numpy as np\n",
    "import matplotlib.pyplot as plt\n",
    "\n",
    "\n",
    "def load_series(filename, series_idx=1):\n",
    "    try:\n",
    "        with open(filename) as csvfile:\n",
    "            csvreader = csv.reader(csvfile)\n",
    "            \n",
    "            data = [float(row[series_idx]) for row in csvreader if len(row) > 0]\n",
    "            normalized_data = (data - np.mean(data)) / np.std(data)\n",
    "        return normalized_data\n",
    "    except IOError:\n",
    "        return None"
   ]
  },
  {
   "cell_type": "markdown",
   "metadata": {},
   "source": [
    "Split the timeseries dataset into two components. The first section will be for training, and the next section will be for testing."
   ]
  },
  {
   "cell_type": "code",
   "execution_count": 2,
   "metadata": {
    "collapsed": true
   },
   "outputs": [],
   "source": [
    "def split_data(data, percent_train=0.80):\n",
    "    num_rows = len(data)\n",
    "    train_data, test_data = [], []\n",
    "    for idx, row in enumerate(data):\n",
    "        if idx < num_rows * percent_train:\n",
    "            train_data.append(row)\n",
    "        else:\n",
    "            test_data.append(row)\n",
    "    return train_data, test_data"
   ]
  },
  {
   "cell_type": "markdown",
   "metadata": {},
   "source": [
    "Download some CSV timeseries data. Like the one here https://datamarket.com/data/set/22u3/international-airline-passengers-monthly-totals-in-thousands-jan-49-dec-60#!ds=22u3&display=line."
   ]
  },
  {
   "cell_type": "code",
   "execution_count": 3,
   "metadata": {},
   "outputs": [
    {
     "name": "stdout",
     "output_type": "stream",
     "text": [
      "(144,)\n"
     ]
    },
    {
     "data": {
      "image/png": "[encoded data removed]",
      "text/plain": [
       "<matplotlib.figure.Figure at 0x1c2bc61fba8>"
      ]
     },
     "metadata": {},
     "output_type": "display_data"
    }
   ],
   "source": [
    "if __name__=='__main__':\n",
    "    # https://datamarket.com/data/set/22u3/international-airline-passengers-monthly-totals-in-thousands-jan-49-dec-60#!ds=22u3&display=line\n",
    "    timeseries = load_series('international-airline-passengers.csv')\n",
    "    print(np.shape(timeseries))\n",
    "\n",
    "    plt.figure()\n",
    "    plt.plot(timeseries)\n",
    "    plt.show()"
   ]
  }
 ],
 "metadata": {
  "kernelspec": {
   "display_name": "Python 3",
   "language": "python",
   "name": "python3"
  },
  "language_info": {
   "codemirror_mode": {
    "name": "ipython",
    "version": 3
   },
   "file_extension": ".py",
   "mimetype": "text/x-python",
   "name": "python",
   "nbconvert_exporter": "python",
   "pygments_lexer": "ipython3",
   "version": "3.5.2"
  }
 },
 "nbformat": 4,
 "nbformat_minor": 2
}
