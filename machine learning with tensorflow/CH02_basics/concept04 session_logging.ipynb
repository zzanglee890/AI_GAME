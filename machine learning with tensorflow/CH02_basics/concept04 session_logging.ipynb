{
 "cells": [
  {
   "cell_type": "markdown",
   "metadata": {},
   "source": [
    "# Ch 02: Concept 04"
   ]
  },
  {
   "cell_type": "markdown",
   "metadata": {},
   "source": [
    "# session logging"
   ]
  },
  {
   "cell_type": "markdown",
   "metadata": {},
   "source": [
    "op 를 설정하자\n",
    "\n",
    "예를 들어서 설명한다.\n",
    "\n",
    "이때 op는 operation의 약자이다. \n",
    "\n",
    "작업은 0개 혹은 그이상의 tensor를 가질수도 있고 연산도 수행하며\n",
    "\n",
    "0개 혹은 그 이상의 tensor를 만들어 내기도 한다. \n",
    "\n",
    "tensor는 tensorflow 에서 정형화된 다차원 배열을 말한다. "
   ]
  },
  {
   "cell_type": "code",
   "execution_count": 3,
   "metadata": {
    "collapsed": false
   },
   "outputs": [],
   "source": [
    "import tensorflow as tf\n",
    "\n",
    "x=tf.constant([[1,2]])\n",
    "neg_op=tf.negative(x)"
   ]
  },
  {
   "cell_type": "code",
   "execution_count": 4,
   "metadata": {
    "collapsed": false
   },
   "outputs": [
    {
     "name": "stdout",
     "output_type": "stream",
     "text": [
      "[[-1 -2]]\n"
     ]
    }
   ],
   "source": [
    "with tf.Session(config=tf.ConfigProto(log_device_placement=True)) as sess:\n",
    "    result=sess.run(neg_op)\n",
    "    print(result)"
   ]
  },
  {
   "cell_type": "markdown",
   "metadata": {},
   "source": [
    "이 코드를 터미널에서 사용해보자 로그를 보여줄 것이다.\n",
    "jupyter notebook에서는 해당 로그를 보여주지는 않는다."
   ]
  }
 ],
 "metadata": {
  "kernelspec": {
   "display_name": "Python 3",
   "language": "python",
   "name": "python3"
  },
  "language_info": {
   "codemirror_mode": {
    "name": "ipython",
    "version": 3
   },
   "file_extension": ".py",
   "mimetype": "text/x-python",
   "name": "python",
   "nbconvert_exporter": "python",
   "pygments_lexer": "ipython3",
   "version": "3.5.2"
  }
 },
 "nbformat": 4,
 "nbformat_minor": 2
}
